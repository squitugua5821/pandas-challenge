{
 "cells": [
  {
   "cell_type": "code",
   "execution_count": 97,
   "metadata": {},
   "outputs": [],
   "source": [
    "import pandas as pd\n",
    "import numpy as np"
   ]
  },
  {
   "cell_type": "code",
   "execution_count": 98,
   "metadata": {
    "scrolled": false
   },
   "outputs": [
    {
     "data": {
      "text/html": [
       "<div>\n",
       "<style scoped>\n",
       "    .dataframe tbody tr th:only-of-type {\n",
       "        vertical-align: middle;\n",
       "    }\n",
       "\n",
       "    .dataframe tbody tr th {\n",
       "        vertical-align: top;\n",
       "    }\n",
       "\n",
       "    .dataframe thead th {\n",
       "        text-align: right;\n",
       "    }\n",
       "</style>\n",
       "<table border=\"1\" class=\"dataframe\">\n",
       "  <thead>\n",
       "    <tr style=\"text-align: right;\">\n",
       "      <th></th>\n",
       "      <th>Purchase ID</th>\n",
       "      <th>SN</th>\n",
       "      <th>Age</th>\n",
       "      <th>Gender</th>\n",
       "      <th>Item ID</th>\n",
       "      <th>Item Name</th>\n",
       "      <th>Price</th>\n",
       "    </tr>\n",
       "  </thead>\n",
       "  <tbody>\n",
       "    <tr>\n",
       "      <td>0</td>\n",
       "      <td>0</td>\n",
       "      <td>Lisim78</td>\n",
       "      <td>20</td>\n",
       "      <td>Male</td>\n",
       "      <td>108</td>\n",
       "      <td>Extraction, Quickblade Of Trembling Hands</td>\n",
       "      <td>3.53</td>\n",
       "    </tr>\n",
       "    <tr>\n",
       "      <td>1</td>\n",
       "      <td>1</td>\n",
       "      <td>Lisovynya38</td>\n",
       "      <td>40</td>\n",
       "      <td>Male</td>\n",
       "      <td>143</td>\n",
       "      <td>Frenzied Scimitar</td>\n",
       "      <td>1.56</td>\n",
       "    </tr>\n",
       "    <tr>\n",
       "      <td>2</td>\n",
       "      <td>2</td>\n",
       "      <td>Ithergue48</td>\n",
       "      <td>24</td>\n",
       "      <td>Male</td>\n",
       "      <td>92</td>\n",
       "      <td>Final Critic</td>\n",
       "      <td>4.88</td>\n",
       "    </tr>\n",
       "    <tr>\n",
       "      <td>3</td>\n",
       "      <td>3</td>\n",
       "      <td>Chamassasya86</td>\n",
       "      <td>24</td>\n",
       "      <td>Male</td>\n",
       "      <td>100</td>\n",
       "      <td>Blindscythe</td>\n",
       "      <td>3.27</td>\n",
       "    </tr>\n",
       "    <tr>\n",
       "      <td>4</td>\n",
       "      <td>4</td>\n",
       "      <td>Iskosia90</td>\n",
       "      <td>23</td>\n",
       "      <td>Male</td>\n",
       "      <td>131</td>\n",
       "      <td>Fury</td>\n",
       "      <td>1.44</td>\n",
       "    </tr>\n",
       "  </tbody>\n",
       "</table>\n",
       "</div>"
      ],
      "text/plain": [
       "   Purchase ID             SN  Age Gender  Item ID  \\\n",
       "0            0        Lisim78   20   Male      108   \n",
       "1            1    Lisovynya38   40   Male      143   \n",
       "2            2     Ithergue48   24   Male       92   \n",
       "3            3  Chamassasya86   24   Male      100   \n",
       "4            4      Iskosia90   23   Male      131   \n",
       "\n",
       "                                   Item Name  Price  \n",
       "0  Extraction, Quickblade Of Trembling Hands   3.53  \n",
       "1                          Frenzied Scimitar   1.56  \n",
       "2                               Final Critic   4.88  \n",
       "3                                Blindscythe   3.27  \n",
       "4                                       Fury   1.44  "
      ]
     },
     "execution_count": 98,
     "metadata": {},
     "output_type": "execute_result"
    }
   ],
   "source": [
    "#Read csv\n",
    "csv_path = 'purchase_data.csv'\n",
    "purchase_df = pd.read_csv(csv_path, encoding=\"utf-8\")\n",
    "#print(purchase_df.columns.values)\n",
    "# purchase_df1 = pd.DataFrame(purchase_df)\n",
    "purchase_df.head()"
   ]
  },
  {
   "cell_type": "code",
   "execution_count": 99,
   "metadata": {},
   "outputs": [
    {
     "data": {
      "text/html": [
       "<div>\n",
       "<style scoped>\n",
       "    .dataframe tbody tr th:only-of-type {\n",
       "        vertical-align: middle;\n",
       "    }\n",
       "\n",
       "    .dataframe tbody tr th {\n",
       "        vertical-align: top;\n",
       "    }\n",
       "\n",
       "    .dataframe thead th {\n",
       "        text-align: right;\n",
       "    }\n",
       "</style>\n",
       "<table border=\"1\" class=\"dataframe\">\n",
       "  <thead>\n",
       "    <tr style=\"text-align: right;\">\n",
       "      <th></th>\n",
       "      <th>Price</th>\n",
       "      <th>Gender</th>\n",
       "    </tr>\n",
       "  </thead>\n",
       "  <tbody>\n",
       "    <tr>\n",
       "      <td>0</td>\n",
       "      <td>3.53</td>\n",
       "      <td>Male</td>\n",
       "    </tr>\n",
       "    <tr>\n",
       "      <td>1</td>\n",
       "      <td>1.56</td>\n",
       "      <td>Male</td>\n",
       "    </tr>\n",
       "    <tr>\n",
       "      <td>2</td>\n",
       "      <td>4.88</td>\n",
       "      <td>Male</td>\n",
       "    </tr>\n",
       "    <tr>\n",
       "      <td>3</td>\n",
       "      <td>3.27</td>\n",
       "      <td>Male</td>\n",
       "    </tr>\n",
       "    <tr>\n",
       "      <td>4</td>\n",
       "      <td>1.44</td>\n",
       "      <td>Male</td>\n",
       "    </tr>\n",
       "    <tr>\n",
       "      <td>...</td>\n",
       "      <td>...</td>\n",
       "      <td>...</td>\n",
       "    </tr>\n",
       "    <tr>\n",
       "      <td>775</td>\n",
       "      <td>3.54</td>\n",
       "      <td>Female</td>\n",
       "    </tr>\n",
       "    <tr>\n",
       "      <td>776</td>\n",
       "      <td>1.63</td>\n",
       "      <td>Male</td>\n",
       "    </tr>\n",
       "    <tr>\n",
       "      <td>777</td>\n",
       "      <td>3.46</td>\n",
       "      <td>Male</td>\n",
       "    </tr>\n",
       "    <tr>\n",
       "      <td>778</td>\n",
       "      <td>4.19</td>\n",
       "      <td>Male</td>\n",
       "    </tr>\n",
       "    <tr>\n",
       "      <td>779</td>\n",
       "      <td>4.60</td>\n",
       "      <td>Male</td>\n",
       "    </tr>\n",
       "  </tbody>\n",
       "</table>\n",
       "<p>780 rows × 2 columns</p>\n",
       "</div>"
      ],
      "text/plain": [
       "     Price  Gender\n",
       "0     3.53    Male\n",
       "1     1.56    Male\n",
       "2     4.88    Male\n",
       "3     3.27    Male\n",
       "4     1.44    Male\n",
       "..     ...     ...\n",
       "775   3.54  Female\n",
       "776   1.63    Male\n",
       "777   3.46    Male\n",
       "778   4.19    Male\n",
       "779   4.60    Male\n",
       "\n",
       "[780 rows x 2 columns]"
      ]
     },
     "execution_count": 99,
     "metadata": {},
     "output_type": "execute_result"
    }
   ],
   "source": [
    "purchase_df[['Price', 'Gender']]"
   ]
  },
  {
   "cell_type": "code",
   "execution_count": null,
   "metadata": {},
   "outputs": [],
   "source": []
  },
  {
   "cell_type": "code",
   "execution_count": null,
   "metadata": {},
   "outputs": [],
   "source": []
  },
  {
   "cell_type": "code",
   "execution_count": 100,
   "metadata": {},
   "outputs": [
    {
     "data": {
      "text/html": [
       "<div>\n",
       "<style scoped>\n",
       "    .dataframe tbody tr th:only-of-type {\n",
       "        vertical-align: middle;\n",
       "    }\n",
       "\n",
       "    .dataframe tbody tr th {\n",
       "        vertical-align: top;\n",
       "    }\n",
       "\n",
       "    .dataframe thead th {\n",
       "        text-align: right;\n",
       "    }\n",
       "</style>\n",
       "<table border=\"1\" class=\"dataframe\">\n",
       "  <thead>\n",
       "    <tr style=\"text-align: right;\">\n",
       "      <th></th>\n",
       "      <th>Total Players</th>\n",
       "    </tr>\n",
       "  </thead>\n",
       "  <tbody>\n",
       "    <tr>\n",
       "      <td>0</td>\n",
       "      <td>780</td>\n",
       "    </tr>\n",
       "  </tbody>\n",
       "</table>\n",
       "</div>"
      ],
      "text/plain": [
       "   Total Players\n",
       "0            780"
      ]
     },
     "execution_count": 100,
     "metadata": {},
     "output_type": "execute_result"
    }
   ],
   "source": [
    "#Player Count\n",
    "pd.Index(list('Total'))\n",
    "total_players = purchase_df['Purchase ID'].count()\n",
    "\n",
    "summary_total = {\n",
    "    \"Total Players\": [total_players]\n",
    "}\n",
    "total = pd.DataFrame(summary_total)\n",
    "total\n"
   ]
  },
  {
   "cell_type": "code",
   "execution_count": 101,
   "metadata": {},
   "outputs": [
    {
     "data": {
      "text/html": [
       "<style  type=\"text/css\" >\n",
       "</style><table id=\"T_4cf3553a_1af8_11ea_93d2_9cb6d06a6038\" ><thead>    <tr>        <th class=\"blank level0\" ></th>        <th class=\"col_heading level0 col0\" >Number of Purchases</th>        <th class=\"col_heading level0 col1\" >Total Unique Items</th>        <th class=\"col_heading level0 col2\" >Total Revenue</th>        <th class=\"col_heading level0 col3\" >Average Price</th>    </tr></thead><tbody>\n",
       "                <tr>\n",
       "                        <th id=\"T_4cf3553a_1af8_11ea_93d2_9cb6d06a6038level0_row0\" class=\"row_heading level0 row0\" >0</th>\n",
       "                        <td id=\"T_4cf3553a_1af8_11ea_93d2_9cb6d06a6038row0_col0\" class=\"data row0 col0\" >780</td>\n",
       "                        <td id=\"T_4cf3553a_1af8_11ea_93d2_9cb6d06a6038row0_col1\" class=\"data row0 col1\" >179</td>\n",
       "                        <td id=\"T_4cf3553a_1af8_11ea_93d2_9cb6d06a6038row0_col2\" class=\"data row0 col2\" >$2379.77</td>\n",
       "                        <td id=\"T_4cf3553a_1af8_11ea_93d2_9cb6d06a6038row0_col3\" class=\"data row0 col3\" >$3.05</td>\n",
       "            </tr>\n",
       "    </tbody></table>"
      ],
      "text/plain": [
       "<pandas.io.formats.style.Styler at 0x231b663bf88>"
      ]
     },
     "execution_count": 101,
     "metadata": {},
     "output_type": "execute_result"
    }
   ],
   "source": [
    "#Purchasing Analysis\n",
    "\n",
    "uniq_items = (purchase_df[\"Item Name\"])\n",
    "uniq_total = len(set(uniq_items))\n",
    "total_rev = (purchase_df[\"Price\"].sum())\n",
    "average = (total_rev / total_players)\n",
    "num_purch = (total_players)\n",
    "purch_summary = {\n",
    "    \"Number of Purchases\": [num_purch],\n",
    "    \"Total Unique Items\": [uniq_total],\n",
    "    \"Total Revenue\": [total_rev],\n",
    "    \"Average Price\": [average]\n",
    "}\n",
    "summary_df = pd.DataFrame(purch_summary)\n",
    "summary_df.style.format({\"Average Price\": \"${:.2f}\", \"Total Revenue\": \"${:.2f}\"})"
   ]
  },
  {
   "cell_type": "code",
   "execution_count": 102,
   "metadata": {},
   "outputs": [
    {
     "data": {
      "text/html": [
       "<style  type=\"text/css\" >\n",
       "</style><table id=\"T_4d3b3048_1af8_11ea_94b4_9cb6d06a6038\" ><thead>    <tr>        <th class=\"blank level0\" ></th>        <th class=\"col_heading level0 col0\" >Gender</th>        <th class=\"col_heading level0 col1\" >Count</th>        <th class=\"col_heading level0 col2\" >Percentage</th>    </tr></thead><tbody>\n",
       "                <tr>\n",
       "                        <th id=\"T_4d3b3048_1af8_11ea_94b4_9cb6d06a6038level0_row0\" class=\"row_heading level0 row0\" >0</th>\n",
       "                        <td id=\"T_4d3b3048_1af8_11ea_94b4_9cb6d06a6038row0_col0\" class=\"data row0 col0\" >Male</td>\n",
       "                        <td id=\"T_4d3b3048_1af8_11ea_94b4_9cb6d06a6038row0_col1\" class=\"data row0 col1\" >652</td>\n",
       "                        <td id=\"T_4d3b3048_1af8_11ea_94b4_9cb6d06a6038row0_col2\" class=\"data row0 col2\" >83.59%</td>\n",
       "            </tr>\n",
       "            <tr>\n",
       "                        <th id=\"T_4d3b3048_1af8_11ea_94b4_9cb6d06a6038level0_row1\" class=\"row_heading level0 row1\" >1</th>\n",
       "                        <td id=\"T_4d3b3048_1af8_11ea_94b4_9cb6d06a6038row1_col0\" class=\"data row1 col0\" >Female</td>\n",
       "                        <td id=\"T_4d3b3048_1af8_11ea_94b4_9cb6d06a6038row1_col1\" class=\"data row1 col1\" >113</td>\n",
       "                        <td id=\"T_4d3b3048_1af8_11ea_94b4_9cb6d06a6038row1_col2\" class=\"data row1 col2\" >14.49%</td>\n",
       "            </tr>\n",
       "            <tr>\n",
       "                        <th id=\"T_4d3b3048_1af8_11ea_94b4_9cb6d06a6038level0_row2\" class=\"row_heading level0 row2\" >2</th>\n",
       "                        <td id=\"T_4d3b3048_1af8_11ea_94b4_9cb6d06a6038row2_col0\" class=\"data row2 col0\" >Other</td>\n",
       "                        <td id=\"T_4d3b3048_1af8_11ea_94b4_9cb6d06a6038row2_col1\" class=\"data row2 col1\" >15</td>\n",
       "                        <td id=\"T_4d3b3048_1af8_11ea_94b4_9cb6d06a6038row2_col2\" class=\"data row2 col2\" >1.92%</td>\n",
       "            </tr>\n",
       "    </tbody></table>"
      ],
      "text/plain": [
       "<pandas.io.formats.style.Styler at 0x231b5f2e548>"
      ]
     },
     "execution_count": 102,
     "metadata": {},
     "output_type": "execute_result"
    }
   ],
   "source": [
    "#Gender Demographics\n",
    "\n",
    "male = purchase_df['Gender'].value_counts()['Male']\n",
    "perc_male = (male / total_players) * 100\n",
    "female = purchase_df['Gender'].value_counts()['Female']\n",
    "perc_female = (female / total_players) * 100\n",
    "other = total_players - (male + female)\n",
    "perc_other = (other / total_players) * 100\n",
    "\n",
    "gender_summary = ({\"Gender\": [\"Male\", \"Female\", \"Other\"],\n",
    "    \"Count\": [male, female, other],\n",
    "    \"Percentage\": [perc_male, perc_female, perc_other]\n",
    "})\n",
    "summary_gender = pd.DataFrame(gender_summary)\n",
    "summary_gender.style.format({\"Percentage\": \"{:.2f}%\"})"
   ]
  },
  {
   "cell_type": "code",
   "execution_count": 103,
   "metadata": {},
   "outputs": [
    {
     "data": {
      "text/html": [
       "<style  type=\"text/css\" >\n",
       "</style><table id=\"T_4d9f71c2_1af8_11ea_babb_9cb6d06a6038\" ><thead>    <tr>        <th class=\"blank level0\" ></th>        <th class=\"col_heading level0 col0\" >Gender</th>        <th class=\"col_heading level0 col1\" >Purchase Count</th>        <th class=\"col_heading level0 col2\" >Avg Purchase Price</th>        <th class=\"col_heading level0 col3\" >Total Purchase Value</th>        <th class=\"col_heading level0 col4\" >Avg Purchase per Person</th>    </tr></thead><tbody>\n",
       "                <tr>\n",
       "                        <th id=\"T_4d9f71c2_1af8_11ea_babb_9cb6d06a6038level0_row0\" class=\"row_heading level0 row0\" >0</th>\n",
       "                        <td id=\"T_4d9f71c2_1af8_11ea_babb_9cb6d06a6038row0_col0\" class=\"data row0 col0\" >Male</td>\n",
       "                        <td id=\"T_4d9f71c2_1af8_11ea_babb_9cb6d06a6038row0_col1\" class=\"data row0 col1\" >652</td>\n",
       "                        <td id=\"T_4d9f71c2_1af8_11ea_babb_9cb6d06a6038row0_col2\" class=\"data row0 col2\" >$3.017853</td>\n",
       "                        <td id=\"T_4d9f71c2_1af8_11ea_babb_9cb6d06a6038row0_col3\" class=\"data row0 col3\" >$1967.640000</td>\n",
       "                        <td id=\"T_4d9f71c2_1af8_11ea_babb_9cb6d06a6038row0_col4\" class=\"data row0 col4\" >$3.017853</td>\n",
       "            </tr>\n",
       "            <tr>\n",
       "                        <th id=\"T_4d9f71c2_1af8_11ea_babb_9cb6d06a6038level0_row1\" class=\"row_heading level0 row1\" >1</th>\n",
       "                        <td id=\"T_4d9f71c2_1af8_11ea_babb_9cb6d06a6038row1_col0\" class=\"data row1 col0\" >Female</td>\n",
       "                        <td id=\"T_4d9f71c2_1af8_11ea_babb_9cb6d06a6038row1_col1\" class=\"data row1 col1\" >113</td>\n",
       "                        <td id=\"T_4d9f71c2_1af8_11ea_babb_9cb6d06a6038row1_col2\" class=\"data row1 col2\" >$3.203009</td>\n",
       "                        <td id=\"T_4d9f71c2_1af8_11ea_babb_9cb6d06a6038row1_col3\" class=\"data row1 col3\" >$361.940000</td>\n",
       "                        <td id=\"T_4d9f71c2_1af8_11ea_babb_9cb6d06a6038row1_col4\" class=\"data row1 col4\" >$3.203009</td>\n",
       "            </tr>\n",
       "            <tr>\n",
       "                        <th id=\"T_4d9f71c2_1af8_11ea_babb_9cb6d06a6038level0_row2\" class=\"row_heading level0 row2\" >2</th>\n",
       "                        <td id=\"T_4d9f71c2_1af8_11ea_babb_9cb6d06a6038row2_col0\" class=\"data row2 col0\" >Other</td>\n",
       "                        <td id=\"T_4d9f71c2_1af8_11ea_babb_9cb6d06a6038row2_col1\" class=\"data row2 col1\" >15</td>\n",
       "                        <td id=\"T_4d9f71c2_1af8_11ea_babb_9cb6d06a6038row2_col2\" class=\"data row2 col2\" >$3.346000</td>\n",
       "                        <td id=\"T_4d9f71c2_1af8_11ea_babb_9cb6d06a6038row2_col3\" class=\"data row2 col3\" >$50.190000</td>\n",
       "                        <td id=\"T_4d9f71c2_1af8_11ea_babb_9cb6d06a6038row2_col4\" class=\"data row2 col4\" >$3.346000</td>\n",
       "            </tr>\n",
       "    </tbody></table>"
      ],
      "text/plain": [
       "<pandas.io.formats.style.Styler at 0x231b6653508>"
      ]
     },
     "execution_count": 103,
     "metadata": {},
     "output_type": "execute_result"
    }
   ],
   "source": [
    "# Purchasing Analysis (Gender)\n",
    "\n",
    "\n",
    "male_purchases = purchase_df.loc[purchase_df['Gender'] == 'Male', :]\n",
    "avg_purch_male = male_purchases['Price'].mean()\n",
    "total_male = male_purchases['Price'].sum()\n",
    "avg_per_male = total_male / male\n",
    "\n",
    "female_purchases = purchase_df.loc[purchase_df['Gender'] == 'Female', :]\n",
    "avg_purch_female = female_purchases['Price'].mean()\n",
    "total_female = female_purchases['Price'].sum()\n",
    "avg_per_female = total_female / female\n",
    "\n",
    "other_purchases = purchase_df.loc[purchase_df['Gender'] == 'Other / Non-Disclosed', :]\n",
    "avg_purch_other = other_purchases['Price'].mean()\n",
    "total_other = other_purchases['Price'].sum()\n",
    "avg_per_other = total_other / other\n",
    "\n",
    "gender_summary = ({\"Gender\": [\"Male\", \"Female\", \"Other\"],\n",
    "    \"Purchase Count\": [male,female,other],\n",
    "    \"Avg Purchase Price\": [avg_purch_male,avg_purch_female,avg_purch_other],\n",
    "    \"Total Purchase Value\": [total_male,total_female,total_other],\n",
    "    \"Avg Purchase per Person\": [avg_per_male,avg_per_female,avg_per_other]\n",
    "})\n",
    "summary_gender = pd.DataFrame(gender_summary)\n",
    "\n",
    "summary_gender.style.format({\"Avg Purchase Price\": \"${:2f}\", \"Avg Purchase per Person\": \"${:2f}\", \"Total Purchase Value\": \"${:2f}\"})"
   ]
  },
  {
   "cell_type": "code",
   "execution_count": 104,
   "metadata": {},
   "outputs": [
    {
     "data": {
      "text/html": [
       "<style  type=\"text/css\" >\n",
       "</style><table id=\"T_4e7a968c_1af8_11ea_b096_9cb6d06a6038\" ><thead>    <tr>        <th class=\"blank level0\" ></th>        <th class=\"col_heading level0 col0\" >Percentage of People</th>        <th class=\"col_heading level0 col1\" >Number of People</th>    </tr>    <tr>        <th class=\"index_name level0\" >Ages</th>        <th class=\"blank\" ></th>        <th class=\"blank\" ></th>    </tr></thead><tbody>\n",
       "                <tr>\n",
       "                        <th id=\"T_4e7a968c_1af8_11ea_b096_9cb6d06a6038level0_row0\" class=\"row_heading level0 row0\" >< 10</th>\n",
       "                        <td id=\"T_4e7a968c_1af8_11ea_b096_9cb6d06a6038row0_col0\" class=\"data row0 col0\" >3.353478%</td>\n",
       "                        <td id=\"T_4e7a968c_1af8_11ea_b096_9cb6d06a6038row0_col1\" class=\"data row0 col1\" >23</td>\n",
       "            </tr>\n",
       "            <tr>\n",
       "                        <th id=\"T_4e7a968c_1af8_11ea_b096_9cb6d06a6038level0_row1\" class=\"row_heading level0 row1\" >10-14</th>\n",
       "                        <td id=\"T_4e7a968c_1af8_11ea_b096_9cb6d06a6038row1_col0\" class=\"data row1 col0\" >2.956429%</td>\n",
       "                        <td id=\"T_4e7a968c_1af8_11ea_b096_9cb6d06a6038row1_col1\" class=\"data row1 col1\" >28</td>\n",
       "            </tr>\n",
       "            <tr>\n",
       "                        <th id=\"T_4e7a968c_1af8_11ea_b096_9cb6d06a6038level0_row2\" class=\"row_heading level0 row2\" >15-19</th>\n",
       "                        <td id=\"T_4e7a968c_1af8_11ea_b096_9cb6d06a6038row2_col0\" class=\"data row2 col0\" >3.035956%</td>\n",
       "                        <td id=\"T_4e7a968c_1af8_11ea_b096_9cb6d06a6038row2_col1\" class=\"data row2 col1\" >136</td>\n",
       "            </tr>\n",
       "            <tr>\n",
       "                        <th id=\"T_4e7a968c_1af8_11ea_b096_9cb6d06a6038level0_row3\" class=\"row_heading level0 row3\" >20-24</th>\n",
       "                        <td id=\"T_4e7a968c_1af8_11ea_b096_9cb6d06a6038row3_col0\" class=\"data row3 col0\" >3.052219%</td>\n",
       "                        <td id=\"T_4e7a968c_1af8_11ea_b096_9cb6d06a6038row3_col1\" class=\"data row3 col1\" >365</td>\n",
       "            </tr>\n",
       "            <tr>\n",
       "                        <th id=\"T_4e7a968c_1af8_11ea_b096_9cb6d06a6038level0_row4\" class=\"row_heading level0 row4\" >25-29</th>\n",
       "                        <td id=\"T_4e7a968c_1af8_11ea_b096_9cb6d06a6038row4_col0\" class=\"data row4 col0\" >2.900990%</td>\n",
       "                        <td id=\"T_4e7a968c_1af8_11ea_b096_9cb6d06a6038row4_col1\" class=\"data row4 col1\" >101</td>\n",
       "            </tr>\n",
       "            <tr>\n",
       "                        <th id=\"T_4e7a968c_1af8_11ea_b096_9cb6d06a6038level0_row5\" class=\"row_heading level0 row5\" >30-34</th>\n",
       "                        <td id=\"T_4e7a968c_1af8_11ea_b096_9cb6d06a6038row5_col0\" class=\"data row5 col0\" >2.931507%</td>\n",
       "                        <td id=\"T_4e7a968c_1af8_11ea_b096_9cb6d06a6038row5_col1\" class=\"data row5 col1\" >73</td>\n",
       "            </tr>\n",
       "            <tr>\n",
       "                        <th id=\"T_4e7a968c_1af8_11ea_b096_9cb6d06a6038level0_row6\" class=\"row_heading level0 row6\" >35-39</th>\n",
       "                        <td id=\"T_4e7a968c_1af8_11ea_b096_9cb6d06a6038row6_col0\" class=\"data row6 col0\" >3.601707%</td>\n",
       "                        <td id=\"T_4e7a968c_1af8_11ea_b096_9cb6d06a6038row6_col1\" class=\"data row6 col1\" >41</td>\n",
       "            </tr>\n",
       "            <tr>\n",
       "                        <th id=\"T_4e7a968c_1af8_11ea_b096_9cb6d06a6038level0_row7\" class=\"row_heading level0 row7\" >40+</th>\n",
       "                        <td id=\"T_4e7a968c_1af8_11ea_b096_9cb6d06a6038row7_col0\" class=\"data row7 col0\" >2.941538%</td>\n",
       "                        <td id=\"T_4e7a968c_1af8_11ea_b096_9cb6d06a6038row7_col1\" class=\"data row7 col1\" >13</td>\n",
       "            </tr>\n",
       "    </tbody></table>"
      ],
      "text/plain": [
       "<pandas.io.formats.style.Styler at 0x231b5374808>"
      ]
     },
     "execution_count": 104,
     "metadata": {},
     "output_type": "execute_result"
    }
   ],
   "source": [
    "#Age Demographics\n",
    "\n",
    "ages = [0, 10, 15, 20, 25, 30, 35, 40, 50]\n",
    "group_names = [\"< 10\", \"10-14\", \"15-19\", \"20-24\", \"25-29\", \"30-34\", \"35-39\", \"40+\"] \n",
    "purchase_df[\"Ages\"] = pd.cut(purchase_df[\"Age\"], ages, labels=group_names, right=False)\n",
    "age_group = purchase_df.groupby(\"Ages\")\n",
    "num_people = age_group['SN'].count()\n",
    "perc_per_age = age_group['Price'].mean()\n",
    "avg = (perc_per_age / total_players) *100\n",
    "summary_Demo = pd.DataFrame({\"Percentage of People\": perc_per_age, \"Number of People\": num_people})\n",
    "summary_Demo.style.format({\"Percentage of People\": \"{:2f}%\"})"
   ]
  },
  {
   "cell_type": "code",
   "execution_count": 167,
   "metadata": {},
   "outputs": [
    {
     "data": {
      "text/html": [
       "<style  type=\"text/css\" >\n",
       "</style><table id=\"T_3d58e464_1b0e_11ea_a1ce_9cb6d06a6038\" ><thead>    <tr>        <th class=\"blank level0\" ></th>        <th class=\"col_heading level0 col0\" >Purchase Count</th>        <th class=\"col_heading level0 col1\" >Average Purchase Price</th>        <th class=\"col_heading level0 col2\" >Total Purchase Value</th>        <th class=\"col_heading level0 col3\" >Average Total Per Person</th>    </tr>    <tr>        <th class=\"index_name level0\" >Ages</th>        <th class=\"blank\" ></th>        <th class=\"blank\" ></th>        <th class=\"blank\" ></th>        <th class=\"blank\" ></th>    </tr></thead><tbody>\n",
       "                <tr>\n",
       "                        <th id=\"T_3d58e464_1b0e_11ea_a1ce_9cb6d06a6038level0_row0\" class=\"row_heading level0 row0\" >< 10</th>\n",
       "                        <td id=\"T_3d58e464_1b0e_11ea_a1ce_9cb6d06a6038row0_col0\" class=\"data row0 col0\" >23</td>\n",
       "                        <td id=\"T_3d58e464_1b0e_11ea_a1ce_9cb6d06a6038row0_col1\" class=\"data row0 col1\" >$3.353478</td>\n",
       "                        <td id=\"T_3d58e464_1b0e_11ea_a1ce_9cb6d06a6038row0_col2\" class=\"data row0 col2\" >$77.130000</td>\n",
       "                        <td id=\"T_3d58e464_1b0e_11ea_a1ce_9cb6d06a6038row0_col3\" class=\"data row0 col3\" >$3.050987</td>\n",
       "            </tr>\n",
       "            <tr>\n",
       "                        <th id=\"T_3d58e464_1b0e_11ea_a1ce_9cb6d06a6038level0_row1\" class=\"row_heading level0 row1\" >10-14</th>\n",
       "                        <td id=\"T_3d58e464_1b0e_11ea_a1ce_9cb6d06a6038row1_col0\" class=\"data row1 col0\" >28</td>\n",
       "                        <td id=\"T_3d58e464_1b0e_11ea_a1ce_9cb6d06a6038row1_col1\" class=\"data row1 col1\" >$2.956429</td>\n",
       "                        <td id=\"T_3d58e464_1b0e_11ea_a1ce_9cb6d06a6038row1_col2\" class=\"data row1 col2\" >$82.780000</td>\n",
       "                        <td id=\"T_3d58e464_1b0e_11ea_a1ce_9cb6d06a6038row1_col3\" class=\"data row1 col3\" >$3.050987</td>\n",
       "            </tr>\n",
       "            <tr>\n",
       "                        <th id=\"T_3d58e464_1b0e_11ea_a1ce_9cb6d06a6038level0_row2\" class=\"row_heading level0 row2\" >15-19</th>\n",
       "                        <td id=\"T_3d58e464_1b0e_11ea_a1ce_9cb6d06a6038row2_col0\" class=\"data row2 col0\" >136</td>\n",
       "                        <td id=\"T_3d58e464_1b0e_11ea_a1ce_9cb6d06a6038row2_col1\" class=\"data row2 col1\" >$3.035956</td>\n",
       "                        <td id=\"T_3d58e464_1b0e_11ea_a1ce_9cb6d06a6038row2_col2\" class=\"data row2 col2\" >$412.890000</td>\n",
       "                        <td id=\"T_3d58e464_1b0e_11ea_a1ce_9cb6d06a6038row2_col3\" class=\"data row2 col3\" >$3.050987</td>\n",
       "            </tr>\n",
       "            <tr>\n",
       "                        <th id=\"T_3d58e464_1b0e_11ea_a1ce_9cb6d06a6038level0_row3\" class=\"row_heading level0 row3\" >20-24</th>\n",
       "                        <td id=\"T_3d58e464_1b0e_11ea_a1ce_9cb6d06a6038row3_col0\" class=\"data row3 col0\" >365</td>\n",
       "                        <td id=\"T_3d58e464_1b0e_11ea_a1ce_9cb6d06a6038row3_col1\" class=\"data row3 col1\" >$3.052219</td>\n",
       "                        <td id=\"T_3d58e464_1b0e_11ea_a1ce_9cb6d06a6038row3_col2\" class=\"data row3 col2\" >$1114.060000</td>\n",
       "                        <td id=\"T_3d58e464_1b0e_11ea_a1ce_9cb6d06a6038row3_col3\" class=\"data row3 col3\" >$3.050987</td>\n",
       "            </tr>\n",
       "            <tr>\n",
       "                        <th id=\"T_3d58e464_1b0e_11ea_a1ce_9cb6d06a6038level0_row4\" class=\"row_heading level0 row4\" >25-29</th>\n",
       "                        <td id=\"T_3d58e464_1b0e_11ea_a1ce_9cb6d06a6038row4_col0\" class=\"data row4 col0\" >101</td>\n",
       "                        <td id=\"T_3d58e464_1b0e_11ea_a1ce_9cb6d06a6038row4_col1\" class=\"data row4 col1\" >$2.900990</td>\n",
       "                        <td id=\"T_3d58e464_1b0e_11ea_a1ce_9cb6d06a6038row4_col2\" class=\"data row4 col2\" >$293.000000</td>\n",
       "                        <td id=\"T_3d58e464_1b0e_11ea_a1ce_9cb6d06a6038row4_col3\" class=\"data row4 col3\" >$3.050987</td>\n",
       "            </tr>\n",
       "            <tr>\n",
       "                        <th id=\"T_3d58e464_1b0e_11ea_a1ce_9cb6d06a6038level0_row5\" class=\"row_heading level0 row5\" >30-34</th>\n",
       "                        <td id=\"T_3d58e464_1b0e_11ea_a1ce_9cb6d06a6038row5_col0\" class=\"data row5 col0\" >73</td>\n",
       "                        <td id=\"T_3d58e464_1b0e_11ea_a1ce_9cb6d06a6038row5_col1\" class=\"data row5 col1\" >$2.931507</td>\n",
       "                        <td id=\"T_3d58e464_1b0e_11ea_a1ce_9cb6d06a6038row5_col2\" class=\"data row5 col2\" >$214.000000</td>\n",
       "                        <td id=\"T_3d58e464_1b0e_11ea_a1ce_9cb6d06a6038row5_col3\" class=\"data row5 col3\" >$3.050987</td>\n",
       "            </tr>\n",
       "            <tr>\n",
       "                        <th id=\"T_3d58e464_1b0e_11ea_a1ce_9cb6d06a6038level0_row6\" class=\"row_heading level0 row6\" >35-39</th>\n",
       "                        <td id=\"T_3d58e464_1b0e_11ea_a1ce_9cb6d06a6038row6_col0\" class=\"data row6 col0\" >41</td>\n",
       "                        <td id=\"T_3d58e464_1b0e_11ea_a1ce_9cb6d06a6038row6_col1\" class=\"data row6 col1\" >$3.601707</td>\n",
       "                        <td id=\"T_3d58e464_1b0e_11ea_a1ce_9cb6d06a6038row6_col2\" class=\"data row6 col2\" >$147.670000</td>\n",
       "                        <td id=\"T_3d58e464_1b0e_11ea_a1ce_9cb6d06a6038row6_col3\" class=\"data row6 col3\" >$3.050987</td>\n",
       "            </tr>\n",
       "            <tr>\n",
       "                        <th id=\"T_3d58e464_1b0e_11ea_a1ce_9cb6d06a6038level0_row7\" class=\"row_heading level0 row7\" >40+</th>\n",
       "                        <td id=\"T_3d58e464_1b0e_11ea_a1ce_9cb6d06a6038row7_col0\" class=\"data row7 col0\" >13</td>\n",
       "                        <td id=\"T_3d58e464_1b0e_11ea_a1ce_9cb6d06a6038row7_col1\" class=\"data row7 col1\" >$2.941538</td>\n",
       "                        <td id=\"T_3d58e464_1b0e_11ea_a1ce_9cb6d06a6038row7_col2\" class=\"data row7 col2\" >$38.240000</td>\n",
       "                        <td id=\"T_3d58e464_1b0e_11ea_a1ce_9cb6d06a6038row7_col3\" class=\"data row7 col3\" >$3.050987</td>\n",
       "            </tr>\n",
       "    </tbody></table>"
      ],
      "text/plain": [
       "<pandas.io.formats.style.Styler at 0x231b5f2e808>"
      ]
     },
     "execution_count": 167,
     "metadata": {},
     "output_type": "execute_result"
    }
   ],
   "source": [
    "#Purchase Analysis Age\n",
    "\n",
    "total_purchase = purchase_df.groupby('Ages')['Price'].sum()\n",
    "total_count = purchase_df.groupby('Ages')['Item Name'].count()\n",
    "purchase_avg = purchase_df.groupby('Ages')['Price'].mean()\n",
    "\n",
    "data = pd.DataFrame({\n",
    "    \"Purchase Count\": total_count,\n",
    "    \"Average Purchase Price\": purchase_avg,\n",
    "    \"Total Purchase Value\": total_purchase, \n",
    "    \"Average Total Per Person\": average\n",
    "})\n",
    "data.style.format({\"Average Purchase Price\": \"${:2f}\", \"Total Purchase Value\": \"${:2f}\", \"Average Total Per Person\": \"${:2f}\"})\n",
    "\n"
   ]
  },
  {
   "cell_type": "code",
   "execution_count": 174,
   "metadata": {},
   "outputs": [
    {
     "ename": "ValueError",
     "evalue": "array length 1 does not match index length 576",
     "output_type": "error",
     "traceback": [
      "\u001b[1;31m---------------------------------------------------------------------------\u001b[0m",
      "\u001b[1;31mValueError\u001b[0m                                Traceback (most recent call last)",
      "\u001b[1;32m<ipython-input-174-9ee7391dff66>\u001b[0m in \u001b[0;36m<module>\u001b[1;34m\u001b[0m\n\u001b[0;32m      7\u001b[0m       \u001b[1;34m\"Purchase Count\"\u001b[0m\u001b[1;33m:\u001b[0m \u001b[0mtotal_count_one\u001b[0m\u001b[1;33m,\u001b[0m\u001b[1;33m\u001b[0m\u001b[1;33m\u001b[0m\u001b[0m\n\u001b[0;32m      8\u001b[0m       \u001b[1;34m\"Average Purchase Price\"\u001b[0m\u001b[1;33m:\u001b[0m \u001b[0mpurchase_avg_one\u001b[0m\u001b[1;33m,\u001b[0m\u001b[1;33m\u001b[0m\u001b[1;33m\u001b[0m\u001b[0m\n\u001b[1;32m----> 9\u001b[1;33m       \u001b[1;34m\"Total Purchase Value\"\u001b[0m\u001b[1;33m:\u001b[0m \u001b[0mtotal_purchase_one\u001b[0m\u001b[1;33m\u001b[0m\u001b[1;33m\u001b[0m\u001b[0m\n\u001b[0m\u001b[0;32m     10\u001b[0m })\n\u001b[0;32m     11\u001b[0m \u001b[0msn\u001b[0m\u001b[1;33m\u001b[0m\u001b[1;33m\u001b[0m\u001b[0m\n",
      "\u001b[1;32mC:\\anaconda\\lib\\site-packages\\pandas\\core\\frame.py\u001b[0m in \u001b[0;36m__init__\u001b[1;34m(self, data, index, columns, dtype, copy)\u001b[0m\n\u001b[0;32m    409\u001b[0m             )\n\u001b[0;32m    410\u001b[0m         \u001b[1;32melif\u001b[0m \u001b[0misinstance\u001b[0m\u001b[1;33m(\u001b[0m\u001b[0mdata\u001b[0m\u001b[1;33m,\u001b[0m \u001b[0mdict\u001b[0m\u001b[1;33m)\u001b[0m\u001b[1;33m:\u001b[0m\u001b[1;33m\u001b[0m\u001b[1;33m\u001b[0m\u001b[0m\n\u001b[1;32m--> 411\u001b[1;33m             \u001b[0mmgr\u001b[0m \u001b[1;33m=\u001b[0m \u001b[0minit_dict\u001b[0m\u001b[1;33m(\u001b[0m\u001b[0mdata\u001b[0m\u001b[1;33m,\u001b[0m \u001b[0mindex\u001b[0m\u001b[1;33m,\u001b[0m \u001b[0mcolumns\u001b[0m\u001b[1;33m,\u001b[0m \u001b[0mdtype\u001b[0m\u001b[1;33m=\u001b[0m\u001b[0mdtype\u001b[0m\u001b[1;33m)\u001b[0m\u001b[1;33m\u001b[0m\u001b[1;33m\u001b[0m\u001b[0m\n\u001b[0m\u001b[0;32m    412\u001b[0m         \u001b[1;32melif\u001b[0m \u001b[0misinstance\u001b[0m\u001b[1;33m(\u001b[0m\u001b[0mdata\u001b[0m\u001b[1;33m,\u001b[0m \u001b[0mma\u001b[0m\u001b[1;33m.\u001b[0m\u001b[0mMaskedArray\u001b[0m\u001b[1;33m)\u001b[0m\u001b[1;33m:\u001b[0m\u001b[1;33m\u001b[0m\u001b[1;33m\u001b[0m\u001b[0m\n\u001b[0;32m    413\u001b[0m             \u001b[1;32mimport\u001b[0m \u001b[0mnumpy\u001b[0m\u001b[1;33m.\u001b[0m\u001b[0mma\u001b[0m\u001b[1;33m.\u001b[0m\u001b[0mmrecords\u001b[0m \u001b[1;32mas\u001b[0m \u001b[0mmrecords\u001b[0m\u001b[1;33m\u001b[0m\u001b[1;33m\u001b[0m\u001b[0m\n",
      "\u001b[1;32mC:\\anaconda\\lib\\site-packages\\pandas\\core\\internals\\construction.py\u001b[0m in \u001b[0;36minit_dict\u001b[1;34m(data, index, columns, dtype)\u001b[0m\n\u001b[0;32m    255\u001b[0m             \u001b[0marr\u001b[0m \u001b[1;32mif\u001b[0m \u001b[1;32mnot\u001b[0m \u001b[0mis_datetime64tz_dtype\u001b[0m\u001b[1;33m(\u001b[0m\u001b[0marr\u001b[0m\u001b[1;33m)\u001b[0m \u001b[1;32melse\u001b[0m \u001b[0marr\u001b[0m\u001b[1;33m.\u001b[0m\u001b[0mcopy\u001b[0m\u001b[1;33m(\u001b[0m\u001b[1;33m)\u001b[0m \u001b[1;32mfor\u001b[0m \u001b[0marr\u001b[0m \u001b[1;32min\u001b[0m \u001b[0marrays\u001b[0m\u001b[1;33m\u001b[0m\u001b[1;33m\u001b[0m\u001b[0m\n\u001b[0;32m    256\u001b[0m         ]\n\u001b[1;32m--> 257\u001b[1;33m     \u001b[1;32mreturn\u001b[0m \u001b[0marrays_to_mgr\u001b[0m\u001b[1;33m(\u001b[0m\u001b[0marrays\u001b[0m\u001b[1;33m,\u001b[0m \u001b[0mdata_names\u001b[0m\u001b[1;33m,\u001b[0m \u001b[0mindex\u001b[0m\u001b[1;33m,\u001b[0m \u001b[0mcolumns\u001b[0m\u001b[1;33m,\u001b[0m \u001b[0mdtype\u001b[0m\u001b[1;33m=\u001b[0m\u001b[0mdtype\u001b[0m\u001b[1;33m)\u001b[0m\u001b[1;33m\u001b[0m\u001b[1;33m\u001b[0m\u001b[0m\n\u001b[0m\u001b[0;32m    258\u001b[0m \u001b[1;33m\u001b[0m\u001b[0m\n\u001b[0;32m    259\u001b[0m \u001b[1;33m\u001b[0m\u001b[0m\n",
      "\u001b[1;32mC:\\anaconda\\lib\\site-packages\\pandas\\core\\internals\\construction.py\u001b[0m in \u001b[0;36marrays_to_mgr\u001b[1;34m(arrays, arr_names, index, columns, dtype)\u001b[0m\n\u001b[0;32m     75\u001b[0m     \u001b[1;31m# figure out the index, if necessary\u001b[0m\u001b[1;33m\u001b[0m\u001b[1;33m\u001b[0m\u001b[1;33m\u001b[0m\u001b[0m\n\u001b[0;32m     76\u001b[0m     \u001b[1;32mif\u001b[0m \u001b[0mindex\u001b[0m \u001b[1;32mis\u001b[0m \u001b[1;32mNone\u001b[0m\u001b[1;33m:\u001b[0m\u001b[1;33m\u001b[0m\u001b[1;33m\u001b[0m\u001b[0m\n\u001b[1;32m---> 77\u001b[1;33m         \u001b[0mindex\u001b[0m \u001b[1;33m=\u001b[0m \u001b[0mextract_index\u001b[0m\u001b[1;33m(\u001b[0m\u001b[0marrays\u001b[0m\u001b[1;33m)\u001b[0m\u001b[1;33m\u001b[0m\u001b[1;33m\u001b[0m\u001b[0m\n\u001b[0m\u001b[0;32m     78\u001b[0m     \u001b[1;32melse\u001b[0m\u001b[1;33m:\u001b[0m\u001b[1;33m\u001b[0m\u001b[1;33m\u001b[0m\u001b[0m\n\u001b[0;32m     79\u001b[0m         \u001b[0mindex\u001b[0m \u001b[1;33m=\u001b[0m \u001b[0mensure_index\u001b[0m\u001b[1;33m(\u001b[0m\u001b[0mindex\u001b[0m\u001b[1;33m)\u001b[0m\u001b[1;33m\u001b[0m\u001b[1;33m\u001b[0m\u001b[0m\n",
      "\u001b[1;32mC:\\anaconda\\lib\\site-packages\\pandas\\core\\internals\\construction.py\u001b[0m in \u001b[0;36mextract_index\u001b[1;34m(data)\u001b[0m\n\u001b[0;32m    379\u001b[0m                         \u001b[1;34m\"length {idx_len}\"\u001b[0m\u001b[1;33m.\u001b[0m\u001b[0mformat\u001b[0m\u001b[1;33m(\u001b[0m\u001b[0mlength\u001b[0m\u001b[1;33m=\u001b[0m\u001b[0mlengths\u001b[0m\u001b[1;33m[\u001b[0m\u001b[1;36m0\u001b[0m\u001b[1;33m]\u001b[0m\u001b[1;33m,\u001b[0m \u001b[0midx_len\u001b[0m\u001b[1;33m=\u001b[0m\u001b[0mlen\u001b[0m\u001b[1;33m(\u001b[0m\u001b[0mindex\u001b[0m\u001b[1;33m)\u001b[0m\u001b[1;33m)\u001b[0m\u001b[1;33m\u001b[0m\u001b[1;33m\u001b[0m\u001b[0m\n\u001b[0;32m    380\u001b[0m                     )\n\u001b[1;32m--> 381\u001b[1;33m                     \u001b[1;32mraise\u001b[0m \u001b[0mValueError\u001b[0m\u001b[1;33m(\u001b[0m\u001b[0mmsg\u001b[0m\u001b[1;33m)\u001b[0m\u001b[1;33m\u001b[0m\u001b[1;33m\u001b[0m\u001b[0m\n\u001b[0m\u001b[0;32m    382\u001b[0m             \u001b[1;32melse\u001b[0m\u001b[1;33m:\u001b[0m\u001b[1;33m\u001b[0m\u001b[1;33m\u001b[0m\u001b[0m\n\u001b[0;32m    383\u001b[0m                 \u001b[0mindex\u001b[0m \u001b[1;33m=\u001b[0m \u001b[0mibase\u001b[0m\u001b[1;33m.\u001b[0m\u001b[0mdefault_index\u001b[0m\u001b[1;33m(\u001b[0m\u001b[0mlengths\u001b[0m\u001b[1;33m[\u001b[0m\u001b[1;36m0\u001b[0m\u001b[1;33m]\u001b[0m\u001b[1;33m)\u001b[0m\u001b[1;33m\u001b[0m\u001b[1;33m\u001b[0m\u001b[0m\n",
      "\u001b[1;31mValueError\u001b[0m: array length 1 does not match index length 576"
     ]
    }
   ],
   "source": [
    "\n",
    "total_purchase_one = purchase_df.groupby('SN')['Price'].max()\n",
    "total_count_one = purchase_df.groupby('SN')['Price'].count()\n",
    "purchase_avg_one = purchase_df.groupby('SN')['Price'].mean()\n",
    "\n",
    "sn = pd.DataFrame({\n",
    "      \"SN\": [\"SN\"],\n",
    "      \"Purchase Count\": total_count_one,\n",
    "      \"Average Purchase Price\": purchase_avg_one,\n",
    "      \"Total Purchase Value\": total_purchase_one\n",
    "})\n",
    "sn"
   ]
  },
  {
   "cell_type": "code",
   "execution_count": null,
   "metadata": {},
   "outputs": [],
   "source": []
  }
 ],
 "metadata": {
  "kernelspec": {
   "display_name": "Python 3",
   "language": "python",
   "name": "python3"
  },
  "language_info": {
   "codemirror_mode": {
    "name": "ipython",
    "version": 3
   },
   "file_extension": ".py",
   "mimetype": "text/x-python",
   "name": "python",
   "nbconvert_exporter": "python",
   "pygments_lexer": "ipython3",
   "version": "3.7.4"
  }
 },
 "nbformat": 4,
 "nbformat_minor": 2
}
